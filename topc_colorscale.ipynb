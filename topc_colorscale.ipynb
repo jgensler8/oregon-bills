{
 "cells": [
  {
   "cell_type": "code",
   "execution_count": 175,
   "metadata": {
    "collapsed": false,
    "deletable": true,
    "editable": true,
    "slideshow": {
     "slide_type": "slide"
    }
   },
   "outputs": [],
   "source": [
    "import pandas as pd\n",
    "import networkx as nx\n",
    "\n",
    "df = pd.read_csv(\"./pdf2text/output/topics.csv\", names=[\"linenum\", \"topicnum\", \"topics\"])\n",
    "\n",
    "G = nx.Graph()\n",
    "\n",
    "for index, row in df.iterrows():\n",
    "#     if index > 1000:\n",
    "#         break\n",
    "    if row[\"topicnum\"] > 1:\n",
    "        continue\n",
    "    linenum = row[\"linenum\"]\n",
    "    G.add_node(linenum)\n",
    "    for i, word in enumerate(row[\"topics\"].split(\" \")):\n",
    "#         if i > 1:\n",
    "#             break\n",
    "        G.add_node(word)\n",
    "        G.add_edge(linenum, word)"
   ]
  },
  {
   "cell_type": "code",
   "execution_count": 169,
   "metadata": {
    "collapsed": false,
    "deletable": true,
    "editable": true,
    "scrolled": true,
    "slideshow": {
     "slide_type": "slide"
    }
   },
   "outputs": [],
   "source": [
    "# Trimming\n",
    "to_remove = [n for n in G.nodes() if G.degree(n) < 10 ]\n",
    "G.remove_nodes_from(to_remove)"
   ]
  },
  {
   "cell_type": "code",
   "execution_count": 171,
   "metadata": {
    "collapsed": false,
    "deletable": true,
    "editable": true,
    "scrolled": true,
    "slideshow": {
     "slide_type": "slide"
    }
   },
   "outputs": [],
   "source": [
    "import matplotlib.pyplot as plt\n",
    "\n",
    "# node_colors = ['b' if n is G. else 'r' for n in G.nodes()]\n",
    "\n",
    "nx.draw(G, nx.spring_layout(G), node_color = 'b', node_size=10, edge_color='r')\n",
    "nx.draw_networkx_labels(G,pos=nx.spring_layout(G), font_size=3)\n",
    "# plt.show()\n",
    "plt.savefig(\"graph.png\", dpi=500)"
   ]
  },
  {
   "cell_type": "code",
   "execution_count": 176,
   "metadata": {
    "collapsed": false,
    "deletable": true,
    "editable": true,
    "slideshow": {
     "slide_type": "slide"
    }
   },
   "outputs": [],
   "source": [
    "nx.write_graphml(G, 'graph.graphml')"
   ]
  }
 ],
 "metadata": {
  "celltoolbar": "Slideshow",
  "kernelspec": {
   "display_name": "Python 2",
   "language": "python",
   "name": "python2"
  },
  "language_info": {
   "codemirror_mode": {
    "name": "ipython",
    "version": 2
   },
   "file_extension": ".py",
   "mimetype": "text/x-python",
   "name": "python",
   "nbconvert_exporter": "python",
   "pygments_lexer": "ipython2",
   "version": "2.7.10"
  }
 },
 "nbformat": 4,
 "nbformat_minor": 0
}
